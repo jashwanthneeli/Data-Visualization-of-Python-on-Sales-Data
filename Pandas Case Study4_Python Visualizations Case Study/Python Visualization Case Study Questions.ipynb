{
 "cells": [
  {
   "cell_type": "code",
   "execution_count": 3,
   "metadata": {},
   "outputs": [],
   "source": [
    "import os\n",
    "import pandas as pd\n",
    "import numpy as np\n",
    "import matplotlib.pyplot as plt\n",
    "%matplotlib inline\n",
    "import seaborn as sns"
   ]
  },
  {
   "cell_type": "code",
   "execution_count": 6,
   "metadata": {},
   "outputs": [
    {
     "data": {
      "text/html": [
       "<div>\n",
       "<style scoped>\n",
       "    .dataframe tbody tr th:only-of-type {\n",
       "        vertical-align: middle;\n",
       "    }\n",
       "\n",
       "    .dataframe tbody tr th {\n",
       "        vertical-align: top;\n",
       "    }\n",
       "\n",
       "    .dataframe thead th {\n",
       "        text-align: right;\n",
       "    }\n",
       "</style>\n",
       "<table border=\"1\" class=\"dataframe\">\n",
       "  <thead>\n",
       "    <tr style=\"text-align: right;\">\n",
       "      <th></th>\n",
       "      <th>AccountId</th>\n",
       "      <th>AccountName</th>\n",
       "      <th>Region</th>\n",
       "      <th>Division</th>\n",
       "      <th>City</th>\n",
       "      <th>State</th>\n",
       "      <th>Tier</th>\n",
       "      <th>Month</th>\n",
       "      <th>Sales2015</th>\n",
       "      <th>Sales2016</th>\n",
       "      <th>Units2015</th>\n",
       "      <th>Units2016</th>\n",
       "      <th>TargetAchevied2015</th>\n",
       "      <th>TargetAchevied2016</th>\n",
       "    </tr>\n",
       "  </thead>\n",
       "  <tbody>\n",
       "    <tr>\n",
       "      <td>0</td>\n",
       "      <td>1116</td>\n",
       "      <td>Account1</td>\n",
       "      <td>West</td>\n",
       "      <td>DIAMONDBACK</td>\n",
       "      <td>PHOENIX W</td>\n",
       "      <td>AZ</td>\n",
       "      <td>Low</td>\n",
       "      <td>Aug</td>\n",
       "      <td>0.00</td>\n",
       "      <td>13208.52</td>\n",
       "      <td>0.0</td>\n",
       "      <td>4.0</td>\n",
       "      <td>0.70</td>\n",
       "      <td>1.53</td>\n",
       "    </tr>\n",
       "    <tr>\n",
       "      <td>1</td>\n",
       "      <td>1116</td>\n",
       "      <td>Account1</td>\n",
       "      <td>West</td>\n",
       "      <td>DIAMONDBACK</td>\n",
       "      <td>PHOENIX W</td>\n",
       "      <td>AZ</td>\n",
       "      <td>Low</td>\n",
       "      <td>Oct</td>\n",
       "      <td>10500.78</td>\n",
       "      <td>23114.91</td>\n",
       "      <td>3.0</td>\n",
       "      <td>7.0</td>\n",
       "      <td>0.84</td>\n",
       "      <td>1.31</td>\n",
       "    </tr>\n",
       "    <tr>\n",
       "      <td>2</td>\n",
       "      <td>2391</td>\n",
       "      <td>Account2</td>\n",
       "      <td>East</td>\n",
       "      <td>MINUTEMEN</td>\n",
       "      <td>HARTFORD</td>\n",
       "      <td>CT</td>\n",
       "      <td>Med</td>\n",
       "      <td>Jun</td>\n",
       "      <td>0.00</td>\n",
       "      <td>6627.00</td>\n",
       "      <td>0.0</td>\n",
       "      <td>3.0</td>\n",
       "      <td>1.15</td>\n",
       "      <td>1.29</td>\n",
       "    </tr>\n",
       "    <tr>\n",
       "      <td>3</td>\n",
       "      <td>2391</td>\n",
       "      <td>Account2</td>\n",
       "      <td>East</td>\n",
       "      <td>MINUTEMEN</td>\n",
       "      <td>HARTFORD</td>\n",
       "      <td>CT</td>\n",
       "      <td>Med</td>\n",
       "      <td>Mar</td>\n",
       "      <td>19881.00</td>\n",
       "      <td>13254.00</td>\n",
       "      <td>9.0</td>\n",
       "      <td>6.0</td>\n",
       "      <td>1.33</td>\n",
       "      <td>1.17</td>\n",
       "    </tr>\n",
       "    <tr>\n",
       "      <td>4</td>\n",
       "      <td>2397</td>\n",
       "      <td>Account3</td>\n",
       "      <td>East</td>\n",
       "      <td>MINUTEMEN</td>\n",
       "      <td>WORCESTER</td>\n",
       "      <td>MA</td>\n",
       "      <td>Med</td>\n",
       "      <td>Sep</td>\n",
       "      <td>3684.48</td>\n",
       "      <td>0.00</td>\n",
       "      <td>1.0</td>\n",
       "      <td>0.0</td>\n",
       "      <td>1.02</td>\n",
       "      <td>1.53</td>\n",
       "    </tr>\n",
       "    <tr>\n",
       "      <td>5</td>\n",
       "      <td>2400</td>\n",
       "      <td>Account4</td>\n",
       "      <td>East</td>\n",
       "      <td>MINUTEMEN</td>\n",
       "      <td>PORTLAND</td>\n",
       "      <td>ME</td>\n",
       "      <td>High</td>\n",
       "      <td>Jul</td>\n",
       "      <td>0.00</td>\n",
       "      <td>10525.24</td>\n",
       "      <td>0.0</td>\n",
       "      <td>4.0</td>\n",
       "      <td>1.03</td>\n",
       "      <td>1.45</td>\n",
       "    </tr>\n",
       "    <tr>\n",
       "      <td>6</td>\n",
       "      <td>2400</td>\n",
       "      <td>Account4</td>\n",
       "      <td>East</td>\n",
       "      <td>MINUTEMEN</td>\n",
       "      <td>PORTLAND</td>\n",
       "      <td>ME</td>\n",
       "      <td>High</td>\n",
       "      <td>Feb</td>\n",
       "      <td>2631.31</td>\n",
       "      <td>42812.62</td>\n",
       "      <td>1.0</td>\n",
       "      <td>17.0</td>\n",
       "      <td>1.08</td>\n",
       "      <td>0.99</td>\n",
       "    </tr>\n",
       "    <tr>\n",
       "      <td>7</td>\n",
       "      <td>2404</td>\n",
       "      <td>Account5</td>\n",
       "      <td>East</td>\n",
       "      <td>EMPIRE</td>\n",
       "      <td>BRIDGEPORT</td>\n",
       "      <td>CT</td>\n",
       "      <td>Low</td>\n",
       "      <td>Mar</td>\n",
       "      <td>4153.89</td>\n",
       "      <td>3918.77</td>\n",
       "      <td>1.0</td>\n",
       "      <td>1.0</td>\n",
       "      <td>0.79</td>\n",
       "      <td>1.46</td>\n",
       "    </tr>\n",
       "    <tr>\n",
       "      <td>8</td>\n",
       "      <td>2406</td>\n",
       "      <td>Account6</td>\n",
       "      <td>East</td>\n",
       "      <td>BIG APPLE</td>\n",
       "      <td>JERSEY CITY</td>\n",
       "      <td>NJ</td>\n",
       "      <td>Med</td>\n",
       "      <td>Mar</td>\n",
       "      <td>0.00</td>\n",
       "      <td>6951.86</td>\n",
       "      <td>0.0</td>\n",
       "      <td>2.0</td>\n",
       "      <td>1.12</td>\n",
       "      <td>1.02</td>\n",
       "    </tr>\n",
       "    <tr>\n",
       "      <td>9</td>\n",
       "      <td>2408</td>\n",
       "      <td>Account7</td>\n",
       "      <td>East</td>\n",
       "      <td>BIG APPLE</td>\n",
       "      <td>JERSEY CITY</td>\n",
       "      <td>NJ</td>\n",
       "      <td>High</td>\n",
       "      <td>Aug</td>\n",
       "      <td>0.00</td>\n",
       "      <td>10994.54</td>\n",
       "      <td>0.0</td>\n",
       "      <td>4.0</td>\n",
       "      <td>1.11</td>\n",
       "      <td>1.54</td>\n",
       "    </tr>\n",
       "  </tbody>\n",
       "</table>\n",
       "</div>"
      ],
      "text/plain": [
       "   AccountId AccountName Region     Division         City State  Tier Month  \\\n",
       "0       1116    Account1   West  DIAMONDBACK    PHOENIX W    AZ   Low   Aug   \n",
       "1       1116    Account1   West  DIAMONDBACK    PHOENIX W    AZ   Low   Oct   \n",
       "2       2391    Account2   East    MINUTEMEN     HARTFORD    CT   Med   Jun   \n",
       "3       2391    Account2   East    MINUTEMEN     HARTFORD    CT   Med   Mar   \n",
       "4       2397    Account3   East    MINUTEMEN    WORCESTER    MA   Med   Sep   \n",
       "5       2400    Account4   East    MINUTEMEN     PORTLAND    ME  High   Jul   \n",
       "6       2400    Account4   East    MINUTEMEN     PORTLAND    ME  High   Feb   \n",
       "7       2404    Account5   East       EMPIRE   BRIDGEPORT    CT   Low   Mar   \n",
       "8       2406    Account6   East    BIG APPLE  JERSEY CITY    NJ   Med   Mar   \n",
       "9       2408    Account7   East    BIG APPLE  JERSEY CITY    NJ  High   Aug   \n",
       "\n",
       "   Sales2015  Sales2016  Units2015  Units2016  TargetAchevied2015  \\\n",
       "0       0.00   13208.52        0.0        4.0                0.70   \n",
       "1   10500.78   23114.91        3.0        7.0                0.84   \n",
       "2       0.00    6627.00        0.0        3.0                1.15   \n",
       "3   19881.00   13254.00        9.0        6.0                1.33   \n",
       "4    3684.48       0.00        1.0        0.0                1.02   \n",
       "5       0.00   10525.24        0.0        4.0                1.03   \n",
       "6    2631.31   42812.62        1.0       17.0                1.08   \n",
       "7    4153.89    3918.77        1.0        1.0                0.79   \n",
       "8       0.00    6951.86        0.0        2.0                1.12   \n",
       "9       0.00   10994.54        0.0        4.0                1.11   \n",
       "\n",
       "   TargetAchevied2016  \n",
       "0                1.53  \n",
       "1                1.31  \n",
       "2                1.29  \n",
       "3                1.17  \n",
       "4                1.53  \n",
       "5                1.45  \n",
       "6                0.99  \n",
       "7                1.46  \n",
       "8                1.02  \n",
       "9                1.54  "
      ]
     },
     "execution_count": 6,
     "metadata": {},
     "output_type": "execute_result"
    }
   ],
   "source": [
    "sales = pd.read_csv(\"C:/python_casestudies/Pandas Case Study4_Python Visualizations Case Study/SalesData.csv\")\n",
    "sales.head(10)"
   ]
  },
  {
   "cell_type": "markdown",
   "metadata": {},
   "source": [
    "### 1. Compare Sales by region for 2016 with 2015 using bar chart"
   ]
  },
  {
   "cell_type": "code",
   "execution_count": 10,
   "metadata": {},
   "outputs": [
    {
     "data": {
      "image/png": "[encoded data removed]",
      "text/plain": [
       "<Figure size 864x432 with 1 Axes>"
      ]
     },
     "metadata": {
      "needs_background": "light"
     },
     "output_type": "display_data"
    }
   ],
   "source": [
    "# sales1 = sales.groupby(['...']).aggregate(...) or .agg(..)\n",
    "\n",
    "sales1 = sales.groupby('Region')['Sales2015', 'Sales2016'].sum()\n",
    "sales1graph=sales1.plot.bar(figsize=(12,6))\n",
    "plt.ylabel(\"sales\")\n",
    "plt.show()"
   ]
  },
  {
   "cell_type": "markdown",
   "metadata": {},
   "source": [
    "### 2. What are the contributing factors to the sales for each region in 2016. Visualize it using a Pie Chart."
   ]
  },
  {
   "cell_type": "code",
   "execution_count": 28,
   "metadata": {},
   "outputs": [
    {
     "data": {
      "image/png": "[encoded data removed]",
      "text/plain": [
       "<Figure size 432x288 with 1 Axes>"
      ]
     },
     "metadata": {},
     "output_type": "display_data"
    }
   ],
   "source": [
    "# sales2 = sales.groupby(['...']).aggregate({})\n",
    "\n",
    "sales2 = sales.groupby('Region').Sales2016.sum()\n",
    "sales2.plot(kind='pie',\n",
    "            colors=['r', 'g', 'b'],\n",
    "            autopct='%1.0f%%', # to get percentage and round off appropriately\n",
    "            fontsize=10, \n",
    "            subplots='true')\n",
    "plt.show()"
   ]
  },
  {
   "cell_type": "markdown",
   "metadata": {},
   "source": [
    "### 3. Compare the total sales of 2015 and 2016 with respect to Region and Tiers"
   ]
  },
  {
   "cell_type": "code",
   "execution_count": 34,
   "metadata": {},
   "outputs": [
    {
     "data": {
      "image/png": "[encoded data removed]",
      "text/plain": [
       "<Figure size 1296x432 with 1 Axes>"
      ]
     },
     "metadata": {
      "needs_background": "light"
     },
     "output_type": "display_data"
    }
   ],
   "source": [
    "sales3 = sales.groupby(['Region', 'Tier'])['Sales2015', 'Sales2016'].sum()\n",
    "\n",
    "sales3graph=sales3.plot.bar(figsize=(18,6))\n",
    "plt.ylabel(\"sales\")\n",
    "plt.show()"
   ]
  },
  {
   "cell_type": "markdown",
   "metadata": {},
   "source": [
    "### 4. In East region, which state registered a decline in 2016 as compared to 2015?"
   ]
  },
  {
   "cell_type": "code",
   "execution_count": 42,
   "metadata": {},
   "outputs": [
    {
     "data": {
      "image/png": "[encoded data removed]",
      "text/plain": [
       "<Figure size 1296x432 with 1 Axes>"
      ]
     },
     "metadata": {
      "needs_background": "light"
     },
     "output_type": "display_data"
    },
    {
     "name": "stdout",
     "output_type": "stream",
     "text": [
      "NewYork State registered a decline in 2016 as compared to 2015\n"
     ]
    }
   ],
   "source": [
    "#selecting east region using loc function.\n",
    "sales4 = sales.loc[sales.Region == 'East', ['Region', 'State', 'Sales2015', 'Sales2016']].reset_index(drop = True)\n",
    "\n",
    "#aggregating state wise sales in the 2015 and 2016\n",
    "sales4 = sales4.groupby('State')['Sales2015', 'Sales2016'].sum()\n",
    "\n",
    "sales4graph=sales4.plot.bar(figsize=(18,6))\n",
    "plt.ylabel(\"sales\")\n",
    "plt.show()\n",
    "print(\"NewYork State registered a decline in 2016 as compared to 2015\")"
   ]
  },
  {
   "cell_type": "markdown",
   "metadata": {},
   "source": [
    "### 5. In all the High tier, which Division saw a decline in number of units sold in 2016 compared to 2015?"
   ]
  },
  {
   "cell_type": "code",
   "execution_count": 52,
   "metadata": {},
   "outputs": [
    {
     "data": {
      "image/png": "[encoded data removed]",
      "text/plain": [
       "<Figure size 1296x432 with 1 Axes>"
      ]
     },
     "metadata": {
      "needs_background": "light"
     },
     "output_type": "display_data"
    },
    {
     "name": "stdout",
     "output_type": "stream",
     "text": [
      "No Division has registered a decline in number of units sold in 2016 as compared to 2015\n"
     ]
    }
   ],
   "source": [
    "sales5 = sales.loc[sales.Tier == 'High', ['Tier', 'Division', 'Units2015', 'Units2016']].reset_index(drop = True)\n",
    "\n",
    "sales5 = sales5.groupby('Division')['Units2015', 'Units2016'].sum()\n",
    "\n",
    "sales5graph=sales5.plot.bar(figsize=(18,6))\n",
    "plt.ylabel(\"Units\")\n",
    "plt.show()\n",
    "print(\"No Division has registered a decline in number of units sold in 2016 as compared to 2015\")"
   ]
  },
  {
   "cell_type": "markdown",
   "metadata": {},
   "source": [
    "### 6. Create a new column Qtr using numpy.where() or any suitable utility in the imported dataset. The Quarters are based on months and defined as -\n",
    "### •\tJan - Mar : Q1\n",
    "\n",
    "### •\tApr - Jun : Q2\n",
    "\n",
    "### •\tJul - Sep : Q3\n",
    "\n",
    "### •\tOct - Dec : Q4   \n"
   ]
  },
  {
   "cell_type": "code",
   "execution_count": 53,
   "metadata": {},
   "outputs": [],
   "source": [
    "month =sales[\"Month\"]"
   ]
  },
  {
   "cell_type": "code",
   "execution_count": 54,
   "metadata": {},
   "outputs": [],
   "source": [
    "quarter = []\n",
    "for x in month :\n",
    "    if x in [\"Jan\",\"Feb\",\"Mar\"]:\n",
    "        quarter.append(\"Q1\")\n",
    "    elif x in [\"Apr\",\"May\",\"Jun\"]:\n",
    "        quarter.append(\"Q2\")\n",
    "    elif x in [\"Jul\",\"Aug\",\"Sep\"]:\n",
    "        quarter.append(\"Q3\")\n",
    "    else:\n",
    "        quarter.append(\"Q4\")"
   ]
  },
  {
   "cell_type": "code",
   "execution_count": 59,
   "metadata": {},
   "outputs": [
    {
     "data": {
      "text/html": [
       "<div>\n",
       "<style scoped>\n",
       "    .dataframe tbody tr th:only-of-type {\n",
       "        vertical-align: middle;\n",
       "    }\n",
       "\n",
       "    .dataframe tbody tr th {\n",
       "        vertical-align: top;\n",
       "    }\n",
       "\n",
       "    .dataframe thead th {\n",
       "        text-align: right;\n",
       "    }\n",
       "</style>\n",
       "<table border=\"1\" class=\"dataframe\">\n",
       "  <thead>\n",
       "    <tr style=\"text-align: right;\">\n",
       "      <th></th>\n",
       "      <th>AccountId</th>\n",
       "      <th>AccountName</th>\n",
       "      <th>Region</th>\n",
       "      <th>Division</th>\n",
       "      <th>City</th>\n",
       "      <th>State</th>\n",
       "      <th>Tier</th>\n",
       "      <th>Month</th>\n",
       "      <th>Sales2015</th>\n",
       "      <th>Sales2016</th>\n",
       "      <th>Units2015</th>\n",
       "      <th>Units2016</th>\n",
       "      <th>TargetAchevied2015</th>\n",
       "      <th>TargetAchevied2016</th>\n",
       "      <th>Qtr</th>\n",
       "    </tr>\n",
       "  </thead>\n",
       "  <tbody>\n",
       "    <tr>\n",
       "      <td>0</td>\n",
       "      <td>1116</td>\n",
       "      <td>Account1</td>\n",
       "      <td>West</td>\n",
       "      <td>DIAMONDBACK</td>\n",
       "      <td>PHOENIX W</td>\n",
       "      <td>AZ</td>\n",
       "      <td>Low</td>\n",
       "      <td>Aug</td>\n",
       "      <td>0.00</td>\n",
       "      <td>13208.52</td>\n",
       "      <td>0.0</td>\n",
       "      <td>4.0</td>\n",
       "      <td>0.70</td>\n",
       "      <td>1.53</td>\n",
       "      <td>Q3</td>\n",
       "    </tr>\n",
       "    <tr>\n",
       "      <td>1</td>\n",
       "      <td>1116</td>\n",
       "      <td>Account1</td>\n",
       "      <td>West</td>\n",
       "      <td>DIAMONDBACK</td>\n",
       "      <td>PHOENIX W</td>\n",
       "      <td>AZ</td>\n",
       "      <td>Low</td>\n",
       "      <td>Oct</td>\n",
       "      <td>10500.78</td>\n",
       "      <td>23114.91</td>\n",
       "      <td>3.0</td>\n",
       "      <td>7.0</td>\n",
       "      <td>0.84</td>\n",
       "      <td>1.31</td>\n",
       "      <td>Q4</td>\n",
       "    </tr>\n",
       "    <tr>\n",
       "      <td>2</td>\n",
       "      <td>2391</td>\n",
       "      <td>Account2</td>\n",
       "      <td>East</td>\n",
       "      <td>MINUTEMEN</td>\n",
       "      <td>HARTFORD</td>\n",
       "      <td>CT</td>\n",
       "      <td>Med</td>\n",
       "      <td>Jun</td>\n",
       "      <td>0.00</td>\n",
       "      <td>6627.00</td>\n",
       "      <td>0.0</td>\n",
       "      <td>3.0</td>\n",
       "      <td>1.15</td>\n",
       "      <td>1.29</td>\n",
       "      <td>Q2</td>\n",
       "    </tr>\n",
       "    <tr>\n",
       "      <td>3</td>\n",
       "      <td>2391</td>\n",
       "      <td>Account2</td>\n",
       "      <td>East</td>\n",
       "      <td>MINUTEMEN</td>\n",
       "      <td>HARTFORD</td>\n",
       "      <td>CT</td>\n",
       "      <td>Med</td>\n",
       "      <td>Mar</td>\n",
       "      <td>19881.00</td>\n",
       "      <td>13254.00</td>\n",
       "      <td>9.0</td>\n",
       "      <td>6.0</td>\n",
       "      <td>1.33</td>\n",
       "      <td>1.17</td>\n",
       "      <td>Q1</td>\n",
       "    </tr>\n",
       "    <tr>\n",
       "      <td>4</td>\n",
       "      <td>2397</td>\n",
       "      <td>Account3</td>\n",
       "      <td>East</td>\n",
       "      <td>MINUTEMEN</td>\n",
       "      <td>WORCESTER</td>\n",
       "      <td>MA</td>\n",
       "      <td>Med</td>\n",
       "      <td>Sep</td>\n",
       "      <td>3684.48</td>\n",
       "      <td>0.00</td>\n",
       "      <td>1.0</td>\n",
       "      <td>0.0</td>\n",
       "      <td>1.02</td>\n",
       "      <td>1.53</td>\n",
       "      <td>Q3</td>\n",
       "    </tr>\n",
       "  </tbody>\n",
       "</table>\n",
       "</div>"
      ],
      "text/plain": [
       "   AccountId AccountName Region     Division       City State Tier Month  \\\n",
       "0       1116    Account1   West  DIAMONDBACK  PHOENIX W    AZ  Low   Aug   \n",
       "1       1116    Account1   West  DIAMONDBACK  PHOENIX W    AZ  Low   Oct   \n",
       "2       2391    Account2   East    MINUTEMEN   HARTFORD    CT  Med   Jun   \n",
       "3       2391    Account2   East    MINUTEMEN   HARTFORD    CT  Med   Mar   \n",
       "4       2397    Account3   East    MINUTEMEN  WORCESTER    MA  Med   Sep   \n",
       "\n",
       "   Sales2015  Sales2016  Units2015  Units2016  TargetAchevied2015  \\\n",
       "0       0.00   13208.52        0.0        4.0                0.70   \n",
       "1   10500.78   23114.91        3.0        7.0                0.84   \n",
       "2       0.00    6627.00        0.0        3.0                1.15   \n",
       "3   19881.00   13254.00        9.0        6.0                1.33   \n",
       "4    3684.48       0.00        1.0        0.0                1.02   \n",
       "\n",
       "   TargetAchevied2016 Qtr  \n",
       "0                1.53  Q3  \n",
       "1                1.31  Q4  \n",
       "2                1.29  Q2  \n",
       "3                1.17  Q1  \n",
       "4                1.53  Q3  "
      ]
     },
     "execution_count": 59,
     "metadata": {},
     "output_type": "execute_result"
    }
   ],
   "source": [
    "sales[\"Qtr\"] = pd.Series(quarter)"
   ]
  },
  {
   "cell_type": "markdown",
   "metadata": {},
   "source": [
    "### 7. Compare Qtr wise sales in 2015 and 2016 in a bar plot\n"
   ]
  },
  {
   "cell_type": "code",
   "execution_count": 72,
   "metadata": {},
   "outputs": [
    {
     "data": {
      "image/png": "[encoded data removed]",
      "text/plain": [
       "<Figure size 1296x432 with 1 Axes>"
      ]
     },
     "metadata": {
      "needs_background": "light"
     },
     "output_type": "display_data"
    }
   ],
   "source": [
    "sales7 = sales.groupby('Qtr')['Sales2015', 'Sales2016'].sum().reset_index()\n",
    "\n",
    "sales7graph=sales7.plot(kind = 'bar', figsize=(18,6))\n",
    "plt.ylabel(\"sales\")\n",
    "plt.xlabel(\"Qtr\")\n",
    "plt.show()"
   ]
  },
  {
   "cell_type": "markdown",
   "metadata": {},
   "source": [
    "### 8. Determine the composition of Qtr wise sales in and 2016 with regards to all the Tiers in a pie chart."
   ]
  },
  {
   "cell_type": "raw",
   "metadata": {},
   "source": [
    "#8. Determine the composition of Qtr wise sales in and 2016 with regards to all the Tiers in a pie chart.\n",
    "sales8 = sales[sales['Tier']!='Out']\n",
    "sales8 = sales8.groupby([...]).aggregate({...})\n",
    "sales8 = sales8.round(decimals=0)\n",
    "sales8 = sales8.stack() # long to wide data\n",
    "sales8 = sales8.unstack(level=0)\n",
    "sales8"
   ]
  },
  {
   "cell_type": "code",
   "execution_count": 76,
   "metadata": {},
   "outputs": [
    {
     "data": {
      "text/html": [
       "<div>\n",
       "<style scoped>\n",
       "    .dataframe tbody tr th:only-of-type {\n",
       "        vertical-align: middle;\n",
       "    }\n",
       "\n",
       "    .dataframe tbody tr th {\n",
       "        vertical-align: top;\n",
       "    }\n",
       "\n",
       "    .dataframe thead th {\n",
       "        text-align: right;\n",
       "    }\n",
       "</style>\n",
       "<table border=\"1\" class=\"dataframe\">\n",
       "  <thead>\n",
       "    <tr style=\"text-align: right;\">\n",
       "      <th>Tier</th>\n",
       "      <th>High</th>\n",
       "      <th>Low</th>\n",
       "      <th>Med</th>\n",
       "      <th>Out</th>\n",
       "    </tr>\n",
       "    <tr>\n",
       "      <th>Qtr</th>\n",
       "      <th></th>\n",
       "      <th></th>\n",
       "      <th></th>\n",
       "      <th></th>\n",
       "    </tr>\n",
       "  </thead>\n",
       "  <tbody>\n",
       "    <tr>\n",
       "      <td>Q1</td>\n",
       "      <td>3867718.595</td>\n",
       "      <td>948832.77</td>\n",
       "      <td>2.181402e+06</td>\n",
       "      <td>0.00</td>\n",
       "    </tr>\n",
       "    <tr>\n",
       "      <td>Q2</td>\n",
       "      <td>4130952.560</td>\n",
       "      <td>890594.75</td>\n",
       "      <td>2.215814e+06</td>\n",
       "      <td>0.00</td>\n",
       "    </tr>\n",
       "    <tr>\n",
       "      <td>Q3</td>\n",
       "      <td>4872559.250</td>\n",
       "      <td>795177.71</td>\n",
       "      <td>2.197058e+06</td>\n",
       "      <td>-3248.53</td>\n",
       "    </tr>\n",
       "    <tr>\n",
       "      <td>Q4</td>\n",
       "      <td>4740001.985</td>\n",
       "      <td>742659.39</td>\n",
       "      <td>2.085207e+06</td>\n",
       "      <td>0.00</td>\n",
       "    </tr>\n",
       "  </tbody>\n",
       "</table>\n",
       "</div>"
      ],
      "text/plain": [
       "Tier         High        Low           Med      Out\n",
       "Qtr                                                \n",
       "Q1    3867718.595  948832.77  2.181402e+06     0.00\n",
       "Q2    4130952.560  890594.75  2.215814e+06     0.00\n",
       "Q3    4872559.250  795177.71  2.197058e+06 -3248.53\n",
       "Q4    4740001.985  742659.39  2.085207e+06     0.00"
      ]
     },
     "execution_count": 76,
     "metadata": {},
     "output_type": "execute_result"
    }
   ],
   "source": [
    "sales8 = sales.pivot_table(index = 'Qtr', columns = 'Tier', values = 'Sales2016', aggfunc = 'sum')\n",
    "sales8"
   ]
  },
  {
   "cell_type": "code",
   "execution_count": 81,
   "metadata": {},
   "outputs": [
    {
     "data": {
      "image/png": "[encoded data removed]",
      "text/plain": [
       "<Figure size 432x288 with 1 Axes>"
      ]
     },
     "metadata": {},
     "output_type": "display_data"
    }
   ],
   "source": [
    "plt.pie(x = sales8.loc['Q1',:], \n",
    "            labels=['High', 'Low', 'Medium', 'Out'], \n",
    "            colors=['deepskyblue', 'darkorange', 'darkgreen'],\n",
    "            autopct='%1.0f%%')\n",
    "plt.show()"
   ]
  },
  {
   "cell_type": "code",
   "execution_count": 82,
   "metadata": {},
   "outputs": [
    {
     "data": {
      "image/png": "[encoded data removed]",
      "text/plain": [
       "<Figure size 432x288 with 1 Axes>"
      ]
     },
     "metadata": {},
     "output_type": "display_data"
    }
   ],
   "source": [
    "plt.pie(x = sales8.loc['Q2',:], \n",
    "            labels=['High', 'Low', 'Medium', 'Out'], \n",
    "            colors=['deepskyblue', 'darkorange', 'darkgreen'],\n",
    "            autopct='%1.0f%%')\n",
    "plt.show()"
   ]
  },
  {
   "cell_type": "code",
   "execution_count": 83,
   "metadata": {},
   "outputs": [
    {
     "data": {
      "image/png": "[encoded data removed]",
      "text/plain": [
       "<Figure size 432x288 with 1 Axes>"
      ]
     },
     "metadata": {},
     "output_type": "display_data"
    }
   ],
   "source": [
    "plt.pie(x = sales8.loc['Q3',:], \n",
    "            labels=['High', 'Low', 'Medium', 'Out'], \n",
    "            colors=['deepskyblue', 'darkorange', 'darkgreen'],\n",
    "            autopct='%1.0f%%')\n",
    "plt.show()"
   ]
  },
  {
   "cell_type": "code",
   "execution_count": 84,
   "metadata": {},
   "outputs": [
    {
     "data": {
      "image/png": "[encoded data removed]",
      "text/plain": [
       "<Figure size 432x288 with 1 Axes>"
      ]
     },
     "metadata": {},
     "output_type": "display_data"
    }
   ],
   "source": [
    "plt.pie(x = sales8.loc['Q4',:], \n",
    "            labels=['High', 'Low', 'Medium', 'Out'], \n",
    "            colors=['deepskyblue', 'darkorange', 'darkgreen'],\n",
    "            autopct='%1.0f%%')\n",
    "plt.show()"
   ]
  }
 ],
 "metadata": {
  "kernelspec": {
   "display_name": "Python 3",
   "language": "python",
   "name": "python3"
  },
  "language_info": {
   "codemirror_mode": {
    "name": "ipython",
    "version": 3
   },
   "file_extension": ".py",
   "mimetype": "text/x-python",
   "name": "python",
   "nbconvert_exporter": "python",
   "pygments_lexer": "ipython3",
   "version": "3.7.4"
  }
 },
 "nbformat": 4,
 "nbformat_minor": 2
}
